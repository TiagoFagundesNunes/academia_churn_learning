{
 "cells": [
  {
   "cell_type": "code",
   "execution_count": 1,
   "id": "1df3dbfc-fa78-4c65-ad16-7957c8e395c5",
   "metadata": {},
   "outputs": [
    {
     "name": "stdout",
     "output_type": "stream",
     "text": [
      "✅ Modelos salvos com sucesso!\n"
     ]
    }
   ],
   "source": [
    "# 📦 Imports\n",
    "import os\n",
    "import pandas as pd\n",
    "from sklearn.ensemble import RandomForestClassifier\n",
    "import joblib\n",
    "\n",
    "# ✅ Corrige o caminho base a partir da pasta notebooks\n",
    "current_dir = os.path.dirname(os.path.abspath(\"__file__\"))\n",
    "base_path = os.path.abspath(os.path.join(current_dir, \"..\"))\n",
    "data_path = os.path.join(base_path, \"data\")\n",
    "modelos_path = os.path.join(base_path, \"modelos\")\n",
    "\n",
    "# 📊 Carrega os dados corretamente\n",
    "df = pd.read_csv(os.path.join(data_path, \"dados_churn.csv\"))\n",
    "\n",
    "# ✅ Pré-processamento\n",
    "variaveis_basicas = [\"frequencia_semanal\", \"dias_desde_ultimo_checkin\", \"duracao_media_visitas\", \"duracao_plano\"]\n",
    "variaveis_completas = [\n",
    "    \"frequencia_mensal\", \"dias_restantes\", \"duracao_plano\", \"frequentador_constante\",\n",
    "    \"genero\", \"idade\", \"dias_ativos\"\n",
    "]\n",
    "df[\"genero\"] = df[\"genero\"].map({\"M\": 0, \"F\": 1})\n",
    "\n",
    "X_basico = df[variaveis_basicas]\n",
    "X_completo = df[variaveis_completas]\n",
    "y = df[\"churn\"]\n",
    "\n",
    "# 🤖 Treina os modelos\n",
    "modelo_basico = RandomForestClassifier()\n",
    "modelo_basico.fit(X_basico, y)\n",
    "\n",
    "modelo_completo = RandomForestClassifier()\n",
    "modelo_completo.fit(X_completo, y)\n",
    "\n",
    "# 💾 Salva os modelos\n",
    "joblib.dump(modelo_basico, os.path.join(modelos_path, \"modelo_churn_basico.pkl\"))\n",
    "joblib.dump(modelo_completo, os.path.join(modelos_path, \"modelo_churn_completo.pkl\"))\n",
    "\n",
    "print(\"✅ Modelos salvos com sucesso!\")\n"
   ]
  },
  {
   "cell_type": "code",
   "execution_count": null,
   "id": "f56287be-5fd6-4347-818c-9cb38f71b7cf",
   "metadata": {},
   "outputs": [],
   "source": []
  },
  {
   "cell_type": "code",
   "execution_count": null,
   "id": "33f175cc-75b1-49d5-bd6b-b06478b1787e",
   "metadata": {},
   "outputs": [],
   "source": []
  }
 ],
 "metadata": {
  "kernelspec": {
   "display_name": "Python 3 (ipykernel)",
   "language": "python",
   "name": "python3"
  },
  "language_info": {
   "codemirror_mode": {
    "name": "ipython",
    "version": 3
   },
   "file_extension": ".py",
   "mimetype": "text/x-python",
   "name": "python",
   "nbconvert_exporter": "python",
   "pygments_lexer": "ipython3",
   "version": "3.13.2"
  }
 },
 "nbformat": 4,
 "nbformat_minor": 5
}
