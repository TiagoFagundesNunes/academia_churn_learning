{
 "cells": [
  {
   "cell_type": "markdown",
   "id": "f05aa29b",
   "metadata": {},
   "source": [
    "# Modelo de Previsão de Churn - Academia\n",
    "Este notebook treina um modelo para prever quais alunos estão propensos a sair da academia."
   ]
  },
  {
   "cell_type": "code",
   "execution_count": null,
   "id": "4cd4d6b8",
   "metadata": {},
   "outputs": [],
   "source": [
    "import pandas as pd\n",
    "from sklearn.model_selection import train_test_split\n",
    "from sklearn.ensemble import RandomForestClassifier\n",
    "from sklearn.metrics import classification_report\n",
    "import matplotlib.pyplot as plt"
   ]
  },
  {
   "cell_type": "markdown",
   "id": "071f3579",
   "metadata": {},
   "source": [
    "### 🔽 Carregando os dados"
   ]
  },
  {
   "cell_type": "code",
   "execution_count": null,
   "id": "ed1b0e63",
   "metadata": {},
   "outputs": [],
   "source": [
    "df = pd.read_csv(\"../data/dados_alunos.csv\")\n",
    "df.head()"
   ]
  },
  {
   "cell_type": "markdown",
   "id": "3207c24e",
   "metadata": {},
   "source": [
    "### 🧹 Pré-processamento e engenharia de atributos"
   ]
  },
  {
   "cell_type": "code",
   "execution_count": null,
   "id": "e7d68d14",
   "metadata": {},
   "outputs": [],
   "source": [
    "df[\"data_nascimento\"] = pd.to_datetime(df[\"data_nascimento\"])\n",
    "df[\"data_inicio\"] = pd.to_datetime(df[\"data_inicio\"])\n",
    "df[\"idade\"] = (pd.Timestamp.now() - df[\"data_nascimento\"]).dt.days // 365\n",
    "df[\"duracao_plano\"] = df[\"dias_restantes\"] + df[\"dias_ativos\"]"
   ]
  },
  {
   "cell_type": "markdown",
   "id": "b275d525",
   "metadata": {},
   "source": [
    "### 📊 Seleção de variáveis e separação treino/teste"
   ]
  },
  {
   "cell_type": "code",
   "execution_count": null,
   "id": "25bd0e1e",
   "metadata": {},
   "outputs": [],
   "source": [
    "X = df[[\"frequencia_mensal\", \"dias_restantes\", \"duracao_plano\", \"frequentador_constante\", \"idade\", \"dias_ativos\"]]\n",
    "y = df[\"churn\"]\n",
    "\n",
    "X_train, X_test, y_train, y_test = train_test_split(X, y, test_size=0.2, random_state=42)"
   ]
  },
  {
   "cell_type": "markdown",
   "id": "7166c7ae",
   "metadata": {},
   "source": [
    "### 🤖 Treinando o modelo Random Forest"
   ]
  },
  {
   "cell_type": "code",
   "execution_count": null,
   "id": "a578e0a0",
   "metadata": {},
   "outputs": [],
   "source": [
    "model = RandomForestClassifier(n_estimators=100, random_state=42)\n",
    "model.fit(X_train, y_train)"
   ]
  },
  {
   "cell_type": "markdown",
   "id": "80c8decb",
   "metadata": {},
   "source": [
    "### 📈 Avaliação do modelo"
   ]
  },
  {
   "cell_type": "code",
   "execution_count": null,
   "id": "a6a573f7",
   "metadata": {},
   "outputs": [],
   "source": [
    "y_pred = model.predict(X_test)\n",
    "report = classification_report(y_test, y_pred, output_dict=True)\n",
    "pd.DataFrame(report).transpose()"
   ]
  }
 ],
 "metadata": {
  "kernelspec": {
   "display_name": "Python 3",
   "name": "python3"
  }
 },
 "nbformat": 4,
 "nbformat_minor": 5
}
